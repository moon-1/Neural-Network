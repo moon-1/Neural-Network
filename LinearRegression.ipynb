{
 "cells": [
  {
   "cell_type": "markdown",
   "metadata": {
    "id": "DOqPooLAnG2V"
   },
   "source": [
    "##**미니배치 경사하강법을 이용한 선형회귀**"
   ]
  },
  {
   "cell_type": "markdown",
   "metadata": {
    "id": "CQy8R207oS2B"
   },
   "source": [
    "**0. 사용할 파이썬 모듈 import, 함수 정의**"
   ]
  },
  {
   "cell_type": "markdown",
   "metadata": {
    "id": "rW46h_-BoF5O"
   },
   "source": [
    "**1. Train data 쌍 (x,y) 100개 랜덤 생성**"
   ]
  },
  {
   "cell_type": "code",
   "execution_count": 2,
   "metadata": {
    "id": "jqXuPGGpoRKB"
   },
   "outputs": [],
   "source": [
    "import numpy as np #수학적계산을 진행해주는 라이브러리\n",
    "import matplotlib.pyplot as plt #데이터 시각화를 위한 라이브러리\n",
    "\n",
    "#미니배치 경사하강법 : 배치사이즈에 따라 일부를 사용해서 기울기 계산\n",
    "#배치 경사하강법 : 전체 데이터로 기울기 계산\n",
    "#확률적 경사하강법 : 전체 중 일부로 기울기 계산"
   ]
  },
  {
   "cell_type": "code",
   "execution_count": 3,
   "metadata": {
    "colab": {
     "base_uri": "https://localhost:8080/",
     "height": 35
    },
    "id": "Hqicpx1RoqQN",
    "outputId": "8719a356-3608-4aa1-8b7f-6988e003f85f"
   },
   "outputs": [
    {
     "data": {
      "text/plain": [
       "(100, 2)"
      ]
     },
     "execution_count": 3,
     "metadata": {},
     "output_type": "execute_result"
    }
   ],
   "source": [
    "np.random.seed(1) #실험 결과 유지 \n",
    "\n",
    "num_sample = 100\n",
    "X = 2 * np.random.rand(num_sample,1) #0~2사이 분포를갖는 100개의 샘플\n",
    "y = 4 + 3* X + np.random.randn(num_sample,1) #가우시안 분포 잡음이 더해짐\n",
    "X_b = np.c_[np.ones((num_sample,1)), X] #계산편리성을 위해 입력데이터 +1 // 모든 element가 1인 분포\n",
    "#np.c > 첫번째 행렬에 1을 추가해줌 ( loss계산시 입력값)\n",
    "X_b.shape #벡터와 메트릭스의 사이즈 체크 100 by 1 행렬 두개 합침"
   ]
  },
  {
   "cell_type": "markdown",
   "metadata": {
    "id": "3Jh1CM1zouCD"
   },
   "source": [
    "**2. Hyperparameter, parameter 설정**"
   ]
  },
  {
   "cell_type": "code",
   "execution_count": 4,
   "metadata": {
    "id": "tv_vMe1Po3Md"
   },
   "outputs": [],
   "source": [
    "eta = 0.01 #학습률  한번에 얼마나 업데이트를 할지 설정\n",
    "n_epoch = 500 #업데이트할때 샘플의 단위 test data set 크기\n",
    "minibatch_size = 50\n",
    "#minibatch의 크기 \n",
    "\n",
    "theta_per_iterations = [] #epoch 500 mini 50 > 100번 iterations\n",
    "loss_per_epoch = []\n",
    "\n",
    "#최적의 theta를 찾는것이 목적\n",
    "theta = np.random.randn(2,1)  #theta[0,0]: bias, theta[1,0]: weight"
   ]
  },
  {
   "cell_type": "markdown",
   "metadata": {
    "id": "LmUiJYRao54l"
   },
   "source": [
    "**3. 미니배치 경사하강법으로 훈련**"
   ]
  },
  {
   "cell_type": "code",
   "execution_count": 6,
   "metadata": {
    "colab": {
     "base_uri": "https://localhost:8080/",
     "height": 199
    },
    "id": "XJp9FnNBpB-7",
    "outputId": "bcd445ef-12b9-49f9-ddc5-926ddd025c80"
   },
   "outputs": [
    {
     "name": "stdout",
     "output_type": "stream",
     "text": [
      "epoch= 00010    |    loss= 0.23564\n",
      "epoch= 00020    |    loss= 0.052469\n",
      "epoch= 00030    |    loss= 0.026115\n",
      "epoch= 00040    |    loss= 0.02208\n",
      "epoch= 00050    |    loss= 0.021758\n",
      "epoch= 00060    |    loss= 0.024858\n",
      "epoch= 00070    |    loss= 0.016444\n",
      "epoch= 00080    |    loss= 0.018302\n",
      "epoch= 00090    |    loss= 0.018317\n",
      "epoch= 00100    |    loss= 0.015869\n",
      "epoch= 00110    |    loss= 0.018994\n",
      "epoch= 00120    |    loss= 0.014522\n",
      "epoch= 00130    |    loss= 0.019311\n",
      "epoch= 00140    |    loss= 0.020831\n",
      "epoch= 00150    |    loss= 0.016527\n",
      "epoch= 00160    |    loss= 0.017405\n",
      "epoch= 00170    |    loss= 0.014013\n",
      "epoch= 00180    |    loss= 0.016435\n",
      "epoch= 00190    |    loss= 0.019585\n",
      "epoch= 00200    |    loss= 0.015605\n",
      "epoch= 00210    |    loss= 0.012441\n",
      "epoch= 00220    |    loss= 0.019776\n",
      "epoch= 00230    |    loss= 0.021673\n",
      "epoch= 00240    |    loss= 0.018564\n",
      "epoch= 00250    |    loss= 0.016404\n",
      "epoch= 00260    |    loss= 0.016686\n",
      "epoch= 00270    |    loss= 0.014432\n",
      "epoch= 00280    |    loss= 0.010204\n",
      "epoch= 00290    |    loss= 0.016364\n",
      "epoch= 00300    |    loss= 0.015584\n",
      "epoch= 00310    |    loss= 0.018372\n",
      "epoch= 00320    |    loss= 0.017534\n",
      "epoch= 00330    |    loss= 0.016416\n",
      "epoch= 00340    |    loss= 0.01901\n",
      "epoch= 00350    |    loss= 0.013756\n",
      "epoch= 00360    |    loss= 0.017276\n",
      "epoch= 00370    |    loss= 0.017314\n",
      "epoch= 00380    |    loss= 0.017612\n",
      "epoch= 00390    |    loss= 0.015893\n",
      "epoch= 00400    |    loss= 0.01749\n",
      "epoch= 00410    |    loss= 0.016851\n",
      "epoch= 00420    |    loss= 0.014115\n",
      "epoch= 00430    |    loss= 0.011797\n",
      "epoch= 00440    |    loss= 0.017993\n",
      "epoch= 00450    |    loss= 0.013702\n",
      "epoch= 00460    |    loss= 0.018363\n",
      "epoch= 00470    |    loss= 0.013351\n",
      "epoch= 00480    |    loss= 0.013118\n",
      "epoch= 00490    |    loss= 0.012626\n",
      "epoch= 00500    |    loss= 0.013886\n"
     ]
    }
   ],
   "source": [
    "for e in range(n_epoch):  #1 epoch에 2번의 update\n",
    "    shuffled_indices = np.random.permutation(num_sample) #인덱스 무작위 섞음 0~99까지의 숫자가 무작위하게 섞이게 됨\n",
    "    X_b_shuffled = X_b[shuffled_indices] #x의 행들이 섞이게 됨\n",
    "    y_shuffled = y[shuffled_indices] #x에 대한 레이블 값도 섞어줌\n",
    "    \n",
    "    for i in range(0, num_sample, minibatch_size):  #mini-batch 갯수만큼 반복 mini-batch사이즈만큼 데이터 추출 100개샘플 50미니배치> 2번반복 =1epoch에서 두번 반복\n",
    "        xi = X_b_shuffled[i:i+minibatch_size] #50개에 대한 gradient계산 i=1일때 0~49번째값까지 가져옴 i=2 50~99까지\n",
    "        yi = y_shuffled[i:i+minibatch_size]\n",
    "        \n",
    "        #추출한 데이터로 loss 계산\n",
    "        loss = np.sum(((1/minibatch_size)*(xi.dot(theta)-yi))**2)#MSE (모델의 출력과 생성했던 yi값과의 차이를 제곱한 후 평균)\n",
    "        #미니배치 사이즈만큼 추출했으므로 미니배치사이즈로 나눠줌\n",
    "        gradients = (2/minibatch_size) * xi.T.dot(xi.dot(theta) - yi)# e=(결과값-y)^2 미분\n",
    "        \n",
    "        #eta: gradient가 이동하는 양\n",
    "        theta = theta - eta * gradients #gradient에 대한 학습률만큼 업데이트 (train의 핵심)\n",
    "        theta_per_iterations.append(theta) #theta의 변화를 보기위해 리스트에 저장\n",
    "\n",
    "    loss_per_epoch.append(loss)\n",
    "\n",
    "    if((e+1) % 10 == 0): #epoch 10마다 loss가 작아지는 것을 확인\n",
    "      print('epoch= %05d    |    loss= %5.5g'%(e+1, loss))"
   ]
  },
  {
   "cell_type": "markdown",
   "metadata": {
    "id": "qoktX7Lqpe6M"
   },
   "source": [
    "**4. 훈련을 거듭하며 loss, theta가 수렴되는 모습 관찰**"
   ]
  },
  {
   "cell_type": "code",
   "execution_count": 79,
   "metadata": {
    "colab": {
     "base_uri": "https://localhost:8080/",
     "height": 317
    },
    "id": "QkYQqpqkpy-r",
    "outputId": "a25a175e-8bd1-4fe2-ac4f-30323ed7dc2f"
   },
   "outputs": [
    {
     "data": {
      "image/png": "[encoded data removed]",
      "text/plain": [
       "<Figure size 1008x360 with 2 Axes>"
      ]
     },
     "metadata": {
      "needs_background": "light"
     },
     "output_type": "display_data"
    }
   ],
   "source": [
    "plt.figure(figsize=(14,5)) #띄우려는 데이터의 사이즈 정의\n",
    "\n",
    "#4-1. loss의 수렴 관찰\n",
    "plt.subplot(1,2,1) #plot두개 합침\n",
    "plt.plot(loss_per_epoch, \"r-\") #500epoch이므로 총 500개의 epoch을 띄움\n",
    "\n",
    "plt.xlabel('number of epoch')\n",
    "plt.ylabel('loss')\n",
    "\n",
    "plt.title('loss per epoch')\n",
    "\n",
    "#4-2. theta의 수렴 관찰 #1000번의 업데이트 > 1000개의 값을 띄움\n",
    "theta_per_iterations = np.array(theta_per_iterations)\n",
    "\n",
    "plt.subplot(1,2,2)\n",
    "plt.plot(theta_per_iterations[:,0], \"r-\")\n",
    "plt.plot(theta_per_iterations[:,1], \"b-\")\n",
    "\n",
    "plt.xlabel('number of updates')\n",
    "plt.ylabel('theta')\n",
    "\n",
    "plt.legend(['bias', 'weight'])\n",
    "plt.title('theta per iterations')\n",
    "\n",
    "plt.show()\n"
   ]
  },
  {
   "cell_type": "markdown",
   "metadata": {
    "id": "GElVblK-qPxP"
   },
   "source": [
    "**5. Testing (모델 시각화)**"
   ]
  },
  {
   "cell_type": "code",
   "execution_count": 80,
   "metadata": {
    "colab": {
     "base_uri": "https://localhost:8080/",
     "height": 295
    },
    "id": "bAuPQHVLqPAM",
    "outputId": "fca4b8dd-827b-4309-c6ea-6c92852bbb02"
   },
   "outputs": [
    {
     "data": {
      "image/png": "[encoded data removed]",
      "text/plain": [
       "<Figure size 432x288 with 1 Axes>"
      ]
     },
     "metadata": {
      "needs_background": "light"
     },
     "output_type": "display_data"
    }
   ],
   "source": [
    "#새로운 데이터를 통해서 파라미터가 적절한 값인지 확인\n",
    "\n",
    "#5-1. Test \n",
    "X_new = np.array([[0], [2]])\n",
    "X_new_b = np.c_[np.ones((2,1)), X_new]\n",
    "y_predict = X_new_b.dot(theta) #0~2에 따른 weigth연산에 의한 출력값\n",
    "\n",
    "#5-2. Model 시각화\n",
    "plt.plot(X_new, y_predict, \"r-\") #theta값을 통해 얻은 모델\n",
    "plt.legend(['predict'])\n",
    "plt.plot(X, y, \"b.\")\n",
    "\n",
    "plt.xlabel('x')\n",
    "plt.ylabel('y')\n",
    "plt.title('random data (x,y)')\n",
    "plt.axis([0, 2, 0, 15]) #x축의 범위와 y축의 범위를 설정\n",
    "plt.show()"
   ]
  },
  {
   "cell_type": "code",
   "execution_count": 81,
   "metadata": {
    "colab": {
     "base_uri": "https://localhost:8080/",
     "height": 54
    },
    "id": "dAyz8AZkJ9xs",
    "outputId": "04dee606-b518-49da-bb00-0f0bb0e3008e"
   },
   "outputs": [
    {
     "data": {
      "text/plain": [
       "array([[4.20320564],\n",
       "       [2.87140729]])"
      ]
     },
     "execution_count": 81,
     "metadata": {},
     "output_type": "execute_result"
    }
   ],
   "source": [
    "theta #노이즈가 존재하기 때문에 정확한 4,3의 weight,bias값이 나오진 않지만 유사한 값이 나오게됨"
   ]
  },
  {
   "cell_type": "code",
   "execution_count": 82,
   "metadata": {
    "colab": {
     "base_uri": "https://localhost:8080/",
     "height": 54
    },
    "id": "BlcfLOmnKL5K",
    "outputId": "1ad3a49e-385d-46b1-ccce-56d93f0ed845"
   },
   "outputs": [
    {
     "data": {
      "text/plain": [
       "array([[4.20320564],\n",
       "       [9.94602022]])"
      ]
     },
     "execution_count": 82,
     "metadata": {},
     "output_type": "execute_result"
    }
   ],
   "source": [
    "y_predict "
   ]
  },
  {
   "cell_type": "code",
   "execution_count": null,
   "metadata": {
    "id": "pdRYGPabcrAf"
   },
   "outputs": [],
   "source": []
  },
  {
   "cell_type": "code",
   "execution_count": null,
   "metadata": {},
   "outputs": [],
   "source": []
  },
  {
   "cell_type": "code",
   "execution_count": null,
   "metadata": {},
   "outputs": [],
   "source": []
  }
 ],
 "metadata": {
  "colab": {
   "collapsed_sections": [],
   "name": "LinearRegression.ipynb",
   "provenance": []
  },
  "kernelspec": {
   "display_name": "Python 3",
   "language": "python",
   "name": "python3"
  },
  "language_info": {
   "codemirror_mode": {
    "name": "ipython",
    "version": 3
   },
   "file_extension": ".py",
   "mimetype": "text/x-python",
   "name": "python",
   "nbconvert_exporter": "python",
   "pygments_lexer": "ipython3",
   "version": "3.8.3"
  }
 },
 "nbformat": 4,
 "nbformat_minor": 1
}
